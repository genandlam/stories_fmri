{
 "cells": [
  {
   "cell_type": "code",
   "execution_count": 34,
   "id": "23fa9555",
   "metadata": {},
   "outputs": [],
   "source": [
    "from himalaya.kernel_ridge import KernelRidgeCV\n",
    "import os\n",
    "import json\n",
    "import numpy as np\n",
    "#from himalaya.utils import load_hdf5_array\n",
    "from config.dir import DATA_DIR, EM_DATA_DIR ,REPO_DIR\n",
    "from sklearn.preprocessing import StandardScaler\n",
    "from voxelwise_tutorials.delayer import Delayer\n",
    "from himalaya.kernel_ridge import KernelRidgeCV\n",
    "from himalaya.backend import set_backend\n",
    "from sklearn.pipeline import make_pipeline\n",
    "from voxelwise_tutorials.utils import generate_leave_one_run_out\n",
    "from sklearn.model_selection import check_cv"
   ]
  },
  {
   "cell_type": "markdown",
   "id": "4194bcb1",
   "metadata": {},
   "source": [
    "# Using a single session as a training "
   ]
  },
  {
   "cell_type": "code",
   "execution_count": 42,
   "id": "a0c6536f",
   "metadata": {},
   "outputs": [
    {
     "name": "stdout",
     "output_type": "stream",
     "text": [
      "(n_samples_train, n_features) = (3705, 985)\n",
      "(n_samples_test, n_features) = (3705, 985)\n"
     ]
    }
   ],
   "source": [
    "subject = \"sub-UTS02\"\n",
    "dir ='results/eng1000'\n",
    "file_name = os.path.join(REPO_DIR, dir,subject,'features.json')\n",
    "with open(file_name, \"r\") as f:\n",
    "\tX_train = json.load(f)\n",
    "X_train = np.array(X_train, dtype=float)\n",
    "X_test = np.array(X_train, dtype=float)\n",
    "#X_train = np.vstack((X_train, X_train))\n",
    "print(\"(n_samples_train, n_features) =\", X_train.shape)\n",
    "print(\"(n_samples_test, n_features) =\", X_test.shape)"
   ]
  },
  {
   "cell_type": "markdown",
   "id": "82c3f6a9",
   "metadata": {},
   "source": [
    "# Subject 2 for training and 3 for testing"
   ]
  },
  {
   "cell_type": "code",
   "execution_count": null,
   "id": "954f830c",
   "metadata": {},
   "outputs": [
    {
     "name": "stdout",
     "output_type": "stream",
     "text": [
      "(n_samples_train, n_voxels) = (3705, 107376)\n",
      "( n_samples_test, n_voxels) = (1824, 94251)\n"
     ]
    }
   ],
   "source": [
    "#subject = \"sub-UTS01\"\n",
    "subject = \"sub-UTS02\"\n",
    "subject_test = \"sub-UTS03\"\n",
    "dir ='results/eng1000/'\n",
    "with open(os.path.join(REPO_DIR, dir,subject,'fmri.json'), \"r\") as f:\n",
    "\tY_train = json.load(f)\n",
    "\n",
    "with open(os.path.join(REPO_DIR, dir,subject_test,'fmri.json'), \"r\") as f:\n",
    "\tY_test = json.load(f)\n",
    "Y_train = np.array(Y_train, dtype=float)\n",
    "Y_train =np.pad(Y_train, [(0, 0), (0, 94251-81126)], mode='constant')\n",
    "Y_test = np.array(Y_test, dtype=float)\n",
    "print(\"(n_samples_train, n_voxels) =\", Y_train.shape)\n",
    "print(\"( n_samples_test, n_voxels) =\", Y_test.shape)"
   ]
  },
  {
   "cell_type": "code",
   "execution_count": 45,
   "id": "4e270217",
   "metadata": {},
   "outputs": [
    {
     "data": {
      "text/plain": [
       "[326, 569, 895, 1192, 1517, 1824, 1994, 2403, 2640, 2889, 3216]"
      ]
     },
     "execution_count": 45,
     "metadata": {},
     "output_type": "execute_result"
    }
   ],
   "source": [
    "with open(os.path.join(REPO_DIR, dir,subject,'run_on.json'), \"r\") as f:\n",
    "\trun_onsets = json.load(f)\n",
    "run_onsets"
   ]
  },
  {
   "cell_type": "code",
   "execution_count": 46,
   "id": "64bbbb26",
   "metadata": {},
   "outputs": [],
   "source": [
    "n_samples_train = X_train.shape[0]\n",
    "cv = generate_leave_one_run_out(n_samples_train, run_onsets)\n",
    "cv = check_cv(cv)  # copy the cross-validation splitter into a reusable list"
   ]
  },
  {
   "cell_type": "code",
   "execution_count": 47,
   "id": "ae2b3f59",
   "metadata": {},
   "outputs": [],
   "source": [
    "X_train_= X_train.astype(\"float32\")\n",
    "alphas = np.logspace(1, 20, 20)"
   ]
  },
  {
   "cell_type": "markdown",
   "id": "ff7d761c",
   "metadata": {},
   "source": [
    "# Create training model pipline "
   ]
  },
  {
   "cell_type": "code",
   "execution_count": 48,
   "id": "1bd939cd",
   "metadata": {},
   "outputs": [],
   "source": [
    "pipeline = make_pipeline(\n",
    "    StandardScaler(with_mean=True, with_std=False),\n",
    "    Delayer(delays=[1, 2, 3, 4]),\n",
    "    KernelRidgeCV(\n",
    "        alphas=alphas, cv=cv,\n",
    "        solver_params=dict(n_targets_batch=500, n_alphas_batch=5,\n",
    "                           n_targets_batch_refit=100)),\n",
    ")"
   ]
  },
  {
   "cell_type": "code",
   "execution_count": 49,
   "id": "8398ac12",
   "metadata": {},
   "outputs": [],
   "source": [
    "_ = pipeline.fit(X_train, Y_train)"
   ]
  },
  {
   "cell_type": "markdown",
   "id": "ae20567f",
   "metadata": {},
   "source": [
    "# Scores of training and testing data set"
   ]
  },
  {
   "cell_type": "code",
   "execution_count": 50,
   "id": "782be62b",
   "metadata": {},
   "outputs": [
    {
     "name": "stdout",
     "output_type": "stream",
     "text": [
      "(n_voxels train,) = (107376,)\n"
     ]
    },
    {
     "name": "stderr",
     "output_type": "stream",
     "text": [
      "/opt/anaconda3/envs/naturalistic/lib/python3.12/site-packages/himalaya/scoring.py:61: RuntimeWarning: invalid value encountered in divide\n",
      "  r2 = 1. - error / var\n"
     ]
    }
   ],
   "source": [
    "scores_train = pipeline.score(X_train, Y_train)\n",
    "print(\"(n_voxels train,) =\", scores_train.shape)\n",
    "#scores_test = pipeline.score(X_test, Y_test)\n",
    "#print(\"(n_voxels test,) =\", scores_test.shape)"
   ]
  },
  {
   "cell_type": "code",
   "execution_count": 51,
   "id": "9f734353",
   "metadata": {},
   "outputs": [
    {
     "name": "stdout",
     "output_type": "stream",
     "text": [
      "r-squared_average train = 0.0116\n"
     ]
    }
   ],
   "source": [
    "print(\"r-squared_average train =\", np.mean(scores_train).round(4))\n",
    "#print(\"r-squared_average =\", np.mean(scores_test).round(6))"
   ]
  },
  {
   "cell_type": "code",
   "execution_count": null,
   "id": "5e53db29",
   "metadata": {},
   "outputs": [
    {
     "name": "stderr",
     "output_type": "stream",
     "text": [
      "/opt/anaconda3/envs/naturalistic/lib/python3.12/site-packages/himalaya/backend/_utils.py:55: UserWarning: Setting backend to torch_cuda failed: PyTorch not installed..Falling back to numpy backend.\n",
      "  warnings.warn(f\"Setting backend to {backend} failed: {str(error)}.\"\n"
     ]
    }
   ],
   "source": [
    "backend = set_backend(\"torch_cuda\", on_error=\"warn\")\n",
    "scores_test = backend.to_numpy(scores_test)"
   ]
  },
  {
   "cell_type": "code",
   "execution_count": 19,
   "id": "5d70223f",
   "metadata": {},
   "outputs": [
    {
     "data": {
      "text/plain": [
       "<Axes: xlabel='log10(alpha)', ylabel='Number of targets'>"
      ]
     },
     "execution_count": 19,
     "metadata": {},
     "output_type": "execute_result"
    },
    {
     "data": {
      "image/png": "[encoded data removed]",
      "text/plain": [
       "<Figure size 640x480 with 1 Axes>"
      ]
     },
     "metadata": {},
     "output_type": "display_data"
    }
   ],
   "source": [
    "from himalaya.viz import plot_alphas_diagnostic\n",
    "best_alphas = backend.to_numpy(pipeline[-1].best_alphas_)\n",
    "plot_alphas_diagnostic(best_alphas=best_alphas, alphas=alphas)\n",
    "#plt.show()"
   ]
  },
  {
   "cell_type": "code",
   "execution_count": 20,
   "id": "1b880b93",
   "metadata": {},
   "outputs": [
    {
     "name": "stdout",
     "output_type": "stream",
     "text": [
      "(n_delays * n_features, n_voxels) = (3940, 94251)\n"
     ]
    }
   ],
   "source": [
    "primal_coef = pipeline[-1].get_primal_coef()\n",
    "primal_coef = backend.to_numpy(primal_coef)\n",
    "print(\"(n_delays * n_features, n_voxels) =\", primal_coef.shape)"
   ]
  },
  {
   "cell_type": "code",
   "execution_count": 21,
   "id": "dc4b26df",
   "metadata": {},
   "outputs": [],
   "source": [
    "primal_coef /= np.linalg.norm(primal_coef, axis=0)[None]\n",
    "primal_coef *= np.sqrt(np.maximum(0, scores_test))[None]"
   ]
  },
  {
   "cell_type": "code",
   "execution_count": 22,
   "id": "766a5546",
   "metadata": {},
   "outputs": [
    {
     "name": "stdout",
     "output_type": "stream",
     "text": [
      "(n_delays, n_features, n_voxels) = (4, 985, 94251)\n",
      "(n_features, n_voxels) = (985, 94251)\n"
     ]
    }
   ],
   "source": [
    "# split the ridge coefficients per delays\n",
    "delayer = pipeline.named_steps['delayer']\n",
    "primal_coef_per_delay = delayer.reshape_by_delays(primal_coef, axis=0)\n",
    "print(\"(n_delays, n_features, n_voxels) =\", primal_coef_per_delay.shape)\n",
    "del primal_coef\n",
    "\n",
    "# average over delays\n",
    "average_coef = np.mean(primal_coef_per_delay, axis=0)\n",
    "print(\"(n_features, n_voxels) =\", average_coef.shape)\n",
    "del primal_coef_per_delay"
   ]
  },
  {
   "cell_type": "code",
   "execution_count": 23,
   "id": "e4fa3952",
   "metadata": {},
   "outputs": [
    {
     "name": "stdout",
     "output_type": "stream",
     "text": [
      "(n_components, n_features) = (4, 985)\n"
     ]
    }
   ],
   "source": [
    "from sklearn.decomposition import PCA\n",
    "\n",
    "pca = PCA(n_components=4)\n",
    "pca.fit(average_coef.T)\n",
    "components = pca.components_\n",
    "print(\"(n_components, n_features) =\", components.shape)"
   ]
  },
  {
   "cell_type": "code",
   "execution_count": 24,
   "id": "dac08b25",
   "metadata": {},
   "outputs": [
    {
     "name": "stdout",
     "output_type": "stream",
     "text": [
      "PCA explained variance = [0.18034443 0.15147918 0.07549113 0.06679695]\n"
     ]
    }
   ],
   "source": [
    "print(\"PCA explained variance =\", pca.explained_variance_ratio_)"
   ]
  },
  {
   "cell_type": "code",
   "execution_count": null,
   "id": "8b9f4d74",
   "metadata": {},
   "outputs": [],
   "source": [
    "# transform with the fitted PCA\n",
    "average_coef_transformed = pca.transform(average_coef.T).T\n",
    "print(\"(n_components, n_voxels) =\", average_coef_transformed.shape)\n",
    "del average_coef\n",
    "\n",
    "# We make sure vmin = -vmax, so that the colormap is centered on 0.\n",
    "vmax = np.percentile(np.abs(average_coef_transformed), 99.9)\n",
    "\n",
    "# plot the primal weights projected on the first principal component.\n",
    "ax = plot_flatmap_from_mapper(average_coef_transformed[0], mapper_file,\n",
    "                              vmin=-vmax, vmax=vmax, cmap='coolwarm')\n",
    "plt.show()"
   ]
  }
 ],
 "metadata": {
  "kernelspec": {
   "display_name": "naturalistic",
   "language": "python",
   "name": "python3"
  },
  "language_info": {
   "codemirror_mode": {
    "name": "ipython",
    "version": 3
   },
   "file_extension": ".py",
   "mimetype": "text/x-python",
   "name": "python",
   "nbconvert_exporter": "python",
   "pygments_lexer": "ipython3",
   "version": "3.12.2"
  }
 },
 "nbformat": 4,
 "nbformat_minor": 5
}
