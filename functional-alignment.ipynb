{
 "cells": [
  {
   "cell_type": "code",
   "execution_count": null,
   "metadata": {},
   "outputs": [],
   "source": [
    "import os\n",
    "import glob\n",
    "import numpy as np\n",
    "import pandas as pd\n",
    "import matplotlib.pyplot as plt\n",
    "import seaborn as sns\n",
    "from voxelwise_tutorials.viz import plot_flatmap_from_mapper\n",
    "from config.dir import DATA_DIR # REPO_DIR, EM_DATA_DIR,\n",
    "from utils.stimulus_utils import load_textgrids, load_simulated_trfiles\n",
    "from utils.textgrid import TextGrid\n",
    "from utils.dsutils import make_semantic_model, make_word_ds, make_phoneme_ds\n",
    "from voxelwise_tutorials.io import load_hdf5_array\n",
    "import json"
   ]
  },
  {
   "cell_type": "code",
   "execution_count": null,
   "metadata": {},
   "outputs": [],
   "source": [
    "! pip3 install numpy pandas matplotlib seaborn nltools voxelwise_tutorials"
   ]
  },
  {
   "cell_type": "code",
   "execution_count": null,
   "metadata": {},
   "outputs": [
    {
     "name": "stdout",
     "output_type": "stream",
     "text": [
      "(n_samples_train, n_voxels) = (326, 81126)\n",
      "( n_samples_test, n_voxels) = (326, 94251)\n"
     ]
    }
   ],
   "source": [
    "subject = \"UTS01\"\n",
    "subject_test = \"UTS02\"\n",
    "dir ='ds003020/derivative/preprocessed_data/'\n",
    "file_name = os.path.join(DATA_DIR, dir, subject,\"catfishingstrangerstofindmyself.hf5\")\n",
    "dir_test = os.path.join(DATA_DIR,dir,  subject_test,\"catfishingstrangerstofindmyself.hf5\")\n",
    "Y_train = load_hdf5_array(file_name, key=\"data\")\n",
    "Y_test = load_hdf5_array(dir_test, key=\"data\")\n",
    "print(\"(n_samples_train, n_voxels) =\", Y_train.shape)\n",
    "print(\"( n_samples_test, n_voxels) =\", Y_test.shape)\n"
   ]
  },
  {
   "cell_type": "code",
   "execution_count": 10,
   "metadata": {},
   "outputs": [
    {
     "name": "stdout",
     "output_type": "stream",
     "text": [
      "(n_samples_train, n_features) = (985, 10470)\n"
     ]
    }
   ],
   "source": [
    "feature_space = \"wordnet\"\n",
    "dir ='ds003020/derivative/english1000sm.hf5'\n",
    "file_name = os.path.join(DATA_DIR, dir)\n",
    "X_train = load_hdf5_array(file_name, key=\"data\")\n",
    "#X_test = load_hdf5_array(file_name, key=\"X_test\")\n",
    "\n",
    "print(\"(n_samples_train, n_features) =\", X_train.shape)\n",
    "#print(\"(n_samples_test, n_features) =\", X_test.shape)"
   ]
  },
  {
   "cell_type": "code",
   "execution_count": 6,
   "metadata": {},
   "outputs": [],
   "source": [
    "def get_story_wordseqs(stories):\n",
    "\tgrids = load_textgrids(stories, DATA_DIR)\n",
    "\twith open( os.path.join(DATA_DIR, \"ds003020/derivative/respdict.json\"), \"r\") as f:\n",
    "\t\trespdict = json.load(f)\n",
    "\ttrfiles = load_simulated_trfiles(respdict)\n",
    "\twordseqs = make_word_ds(grids, trfiles)\n",
    "\treturn wordseqs"
   ]
  },
  {
   "cell_type": "code",
   "execution_count": null,
   "metadata": {},
   "outputs": [],
   "source": []
  }
 ],
 "metadata": {
  "kaggle": {
   "accelerator": "none",
   "dataSources": [
    {
     "datasetId": 1194863,
     "sourceId": 1997650,
     "sourceType": "datasetVersion"
    }
   ],
   "dockerImageVersionId": 30918,
   "isGpuEnabled": false,
   "isInternetEnabled": true,
   "language": "python",
   "sourceType": "notebook"
  },
  "kernelspec": {
   "display_name": ".venv",
   "language": "python",
   "name": "python3"
  },
  "language_info": {
   "codemirror_mode": {
    "name": "ipython",
    "version": 3
   },
   "file_extension": ".py",
   "mimetype": "text/x-python",
   "name": "python",
   "nbconvert_exporter": "python",
   "pygments_lexer": "ipython3",
   "version": "3.9.6"
  }
 },
 "nbformat": 4,
 "nbformat_minor": 4
}
